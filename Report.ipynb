{
 "cells": [
  {
   "cell_type": "markdown",
   "metadata": {
    "collapsed": true,
    "pycharm": {}
   },
   "source": [
    "# Simultaneous Imitation"
   ]
  },
  {
   "cell_type": "markdown",
   "metadata": {
    "pycharm": {}
   },
   "source": [
    "## Abstract\n",
    "This paper is about eye-dynamics for an imitation task.\n"
   ]
  },
  {
   "cell_type": "markdown",
   "source": [
    "## Imitation Task\n",
    "This is the video, subjects saw the video and imitated movements **simultaneously**.\n",
    "<iframe width=\"560\" height=\"315\" src=\"https://www.youtube.com/embed/2hhV0Ev2PDQ\"></iframe>\n"
   ],
   "metadata": {
    "pycharm": {
     "metadata": false,
     "name": "#%% md\n"
    }
   }
  },
  {
   "cell_type": "markdown",
   "metadata": {
    "pycharm": {}
   },
   "source": [
    "## Subject heatmap and Grand Average\n",
    "\n",
    "We calculate the grand average data heatmap for fixation, data ranges are [0, 48] and [0, 30] for \n",
    "(x, y) respectively so we need to filter data as the next scatter plot shows.\n",
    "\n",
    "Cartesian data is saved in this way because these ranges are needed to compute angular degrees for smooth\n",
    "pursuit, saccades and fixations.\n"
   ]
  },
  {
   "cell_type": "code",
   "execution_count": 2,
   "metadata": {
    "pycharm": {
     "is_executing": false
    }
   },
   "outputs": [
    {
     "name": "stdout",
     "text": [
      "97.96991508986682% of data inside this range\n"
     ],
     "output_type": "stream"
    },
    {
     "data": {
      "text/plain": "<Figure size 432x288 with 1 Axes>",
      "image/png": "[encoded data removed]"
     },
     "metadata": {
      "needs_background": "light"
     },
     "output_type": "display_data"
    }
   ],
   "source": [
    "import pandas as pd\n",
    "import matplotlib.pyplot as plt\n",
    "\n",
    "data = pd.read_csv('./source_data/data.csv')\n",
    "\n",
    "x0 = data['x_start']  # index = 2\n",
    "y0 = data['y_start']  # index = 3\n",
    "\n",
    "mask = [(x > 0) and (x < 48) and (y > 0) and (y < 30) for x, y in zip(x0, y0)]\n",
    "print(\"{}% of data inside this range\".format(100*sum(mask)/len(mask)))\n",
    "plt.scatter(x0[mask], y0[mask])\n",
    "plt.show()\n"
   ]
  },
  {
   "cell_type": "markdown",
   "source": [
    "## Creating a trial-only mask and modify x-y coordinates\n",
    "From all data points we need to use only those points inside useful trial intervals so we need to mask them, we also\n",
    "modify x-y coords that were normalized by 48, 30. Finally, we save this trial id mask in a modified\n",
    "data file.\n"
   ],
   "metadata": {
    "collapsed": false,
    "pycharm": {
     "name": "#%% md\n"
    }
   }
  },
  {
   "cell_type": "code",
   "execution_count": 4,
   "outputs": [
    {
     "name": "stderr",
     "text": [
      "/home/harrisonford/PycharmProjects/accelerometer-data/venv/lib/python3.7/site-packages/ipykernel_launcher.py:11: FutureWarning: Method .as_matrix will be removed in a future version. Use .values instead.\n  # This is added back by InteractiveShellApp.init_path()\n/home/harrisonford/PycharmProjects/accelerometer-data/venv/lib/python3.7/site-packages/ipykernel_launcher.py:12: FutureWarning: Method .as_matrix will be removed in a future version. Use .values instead.\n  if sys.path[0] == '':\n/home/harrisonford/PycharmProjects/accelerometer-data/venv/lib/python3.7/site-packages/ipykernel_launcher.py:15: FutureWarning: Method .as_matrix will be removed in a future version. Use .values instead.\n  from ipykernel import kernelapp as app\n/home/harrisonford/PycharmProjects/accelerometer-data/venv/lib/python3.7/site-packages/ipykernel_launcher.py:22: FutureWarning: Method .as_matrix will be removed in a future version. Use .values instead.\n/home/harrisonford/PycharmProjects/accelerometer-data/venv/lib/python3.7/site-packages/ipykernel_launcher.py:23: FutureWarning: Method .as_matrix will be removed in a future version. Use .values instead.\n/home/harrisonford/PycharmProjects/accelerometer-data/venv/lib/python3.7/site-packages/ipykernel_launcher.py:24: FutureWarning: Method .as_matrix will be removed in a future version. Use .values instead.\n/home/harrisonford/PycharmProjects/accelerometer-data/venv/lib/python3.7/site-packages/ipykernel_launcher.py:25: FutureWarning: Method .as_matrix will be removed in a future version. Use .values instead.\n/home/harrisonford/PycharmProjects/accelerometer-data/venv/lib/python3.7/site-packages/ipykernel_launcher.py:26: FutureWarning: Method .as_matrix will be removed in a future version. Use .values instead.\n/home/harrisonford/PycharmProjects/accelerometer-data/venv/lib/python3.7/site-packages/ipykernel_launcher.py:27: FutureWarning: Method .as_matrix will be removed in a future version. Use .values instead.\n"
     ],
     "output_type": "stream"
    },
    {
     "name": "stdout",
     "text": [
      "74.20369811646049% of Data outside of trials\n"
     ],
     "output_type": "stream"
    }
   ],
   "source": [
    "import pandas as pd\n",
    "import numpy as np\n",
    "\n",
    "\n",
    "# resize x-y\n",
    "data = pd.read_csv('./source_data/data.csv')\n",
    "data['x_start'] = data['x_start']*1920/48\n",
    "data['x_end'] = data['x_end']*1920/48\n",
    "data['y_start'] = data['y_start']*1080/30\n",
    "data['y_end'] = data['y_end']*1080/30\n",
    "t0 = data['time_start'].as_matrix()\n",
    "subject = data['subject'].as_matrix() - 1  # subject1 is 0 in python\n",
    "\n",
    "trial_data = pd.read_excel('./source_data/Frames.xlsx')\n",
    "ids = trial_data['id'].as_matrix()\n",
    "\n",
    "# mark trials 1 to 5 with that number, passive observation as 0, -1 everything else\n",
    "# take out the invalid subjects, marked with 0 as id\n",
    "mask = [i for i in range(len(ids)) if ids[i] > 0]\n",
    "\n",
    "# transform frame tags to time, videos were at 30fps\n",
    "intervals = [(trial_data['passivei'].as_matrix()[mask]/30, trial_data['passivef'].as_matrix()[mask]/30), \n",
    "             (trial_data['t1i'].as_matrix()[mask]/30, trial_data['t1f'].as_matrix()[mask]/30), \n",
    "             (trial_data['t2i'].as_matrix()[mask]/30, trial_data['t2f'].as_matrix()[mask]/30), \n",
    "             (trial_data['t3i'].as_matrix()[mask]/30, trial_data['t3f'].as_matrix()[mask]/30), \n",
    "             (trial_data['t4i'].as_matrix()[mask]/30, trial_data['t4f'].as_matrix()[mask]/30), \n",
    "             (trial_data['t5i'].as_matrix()[mask]/30, trial_data['t5f'].as_matrix()[mask]/30)]\n",
    "\n",
    "trial_id = np.zeros(t0.shape) - 1\n",
    "for data_index in range(len(trial_id)):\n",
    "    for tuple_index in range(len(intervals)):\n",
    "        interval_low = intervals[tuple_index][0]\n",
    "        interval_high = intervals[tuple_index][1]\n",
    "        low = interval_low[subject[data_index]]\n",
    "        high = interval_high[subject[data_index]]\n",
    "        \n",
    "        if low < t0[data_index] < high:\n",
    "            trial_id[data_index] = tuple_index\n",
    "            \n",
    "# add this mask to data csv\n",
    "data['trial_id'] = trial_id\n",
    "\n",
    "# calculate percentage of data outside of a trial\n",
    "ratio = np.sum(trial_id == -1) / len(trial_id) \n",
    "print(\"{}% of Data outside of trials\".format(ratio*100))\n",
    "\n",
    "# make a modified file\n",
    "data.to_csv('./source_data/data_modified.csv')\n"
   ],
   "metadata": {
    "collapsed": false,
    "pycharm": {
     "name": "#%%\n",
     "is_executing": false
    }
   }
  },
  {
   "cell_type": "markdown",
   "source": [
    "Taking this in mind we resize data to real monitor setting, rewrite modified data \n",
    "and create the heatmap:\n"
   ],
   "metadata": {
    "collapsed": false,
    "pycharm": {
     "name": "#%% md\n"
    }
   }
  },
  {
   "cell_type": "code",
   "execution_count": 5,
   "outputs": [
    {
     "data": {
      "text/plain": "<Figure size 432x288 with 2 Axes>",
      "image/png": "[encoded data removed]"
     },
     "metadata": {
      "needs_background": "light"
     },
     "output_type": "display_data"
    }
   ],
   "source": [
    "import pandas as pd\n",
    "import numpy as np\n",
    "import matplotlib.pyplot as plt\n",
    "import seaborn as sb\n",
    "import cv2\n",
    "\n",
    "\n",
    "# we create an aux function to create a mask of values inside event list and trial list\n",
    "# event ids: 1,2,3 = sacc, fix, sp\n",
    "# trial ids: [1, ... ,5]\n",
    "def create_mask(loaded_data, event_list, trial_list):\n",
    "    _mask = [(x > 0) and (x < 1920) and (y > 0) and (y < 1080) and (my_event in event_list) and (my_trial in trial_list)\n",
    "            for x, y, my_event, my_trial \n",
    "            in zip(loaded_data['x_start'], loaded_data['y_start'], loaded_data['type'], loaded_data['trial_id'])]\n",
    "    return _mask\n",
    "\n",
    "\n",
    "# import data\n",
    "data = pd.read_csv('./source_data/data_modified.csv')\n",
    "duration = data['duration']\n",
    "\n",
    "# make the mask, modify these values to select data to plot\n",
    "mask = create_mask(data, [2], [1, 2, 3, 4, 5])\n",
    "\n",
    "# translate to a heatmap\n",
    "heatmap = np.zeros((1080, 1920))\n",
    "for x, y, t, valid in zip(data['x_start'], data['y_start'], duration, mask):\n",
    "    if valid:\n",
    "        heatmap[int(y), int(x)] = t\n",
    "\n",
    "# gaussian filter heatmap\n",
    "blurred_heatmap = cv2.GaussianBlur(heatmap, (0, 0), 20)\n",
    "\n",
    "sb.heatmap(blurred_heatmap, cmap='Reds', robust=True)\n",
    "plt.show()\n"
   ],
   "metadata": {
    "collapsed": false,
    "pycharm": {
     "name": "#%%\n",
     "is_executing": false
    }
   }
  },
  {
   "cell_type": "markdown",
   "source": [
    "## Fixation/Saccade/SmoothPursuit Characterization Overview\n",
    "\n",
    "We calculate mean fixation duration and number as grand-average.\n"
   ],
   "metadata": {
    "pycharm": {
     "metadata": false
    }
   }
  },
  {
   "cell_type": "code",
   "execution_count": 6,
   "outputs": [
    {
     "name": "stdout",
     "text": [
      "Grand average fix 0.35375081353631066\nGrand average sacc 0.05851383952482124\nGrand average smooth 0.9650315557224927\n"
     ],
     "output_type": "stream"
    },
    {
     "data": {
      "text/plain": "<Figure size 432x288 with 3 Axes>",
      "image/png": "[encoded data removed]"
     },
     "metadata": {
      "needs_background": "light"
     },
     "output_type": "display_data"
    }
   ],
   "source": [
    "import pandas as pd\n",
    "import numpy as np\n",
    "import matplotlib.pyplot as plt\n",
    "\n",
    "\n",
    "# create a function that averages duration per subject\n",
    "def group_average_duration(dataframe, event_id):\n",
    "    times = dataframe['duration']\n",
    "    subject_mask = dataframe['subject']\n",
    "    type_mask = dataframe['type'] \n",
    "    trial_mask = dataframe['trial_id']\n",
    "    n_subjects = subject_mask.max()\n",
    "    mean_data = np.empty(n_subjects)\n",
    "    \n",
    "    for n in range(n_subjects):\n",
    "        subject_data = [time for index, time in enumerate(times) \n",
    "                        if subject_mask[index] == n+1 and type_mask[index] == event_id and trial_mask[index] >= 0]\n",
    "        mean_data[n] = np.nanmean(subject_data)  # change to use np.nanmean() for duration or len() for quantity\n",
    "    return mean_data\n",
    "\n",
    "\n",
    "# import data\n",
    "data = pd.read_csv('./source_data/data_modified.csv')\n",
    "\n",
    "# average events\n",
    "data_type = dict(sacc=1, fix=2, smp=3)  # smp = smooth pursuit\n",
    "sacc_duration = group_average_duration(data, data_type['sacc'])\n",
    "fix_duration = group_average_duration(data, data_type['fix'])\n",
    "smp_duration = group_average_duration(data, data_type['smp'])\n",
    "\n",
    "\n",
    "print(\"Grand average fix {}\".format(np.nanmean(fix_duration)))\n",
    "print(\"Grand average sacc {}\".format(np.nanmean(sacc_duration)))\n",
    "print(\"Grand average smooth {}\".format(np.nanmean(smp_duration)))\n",
    "\n",
    "# plot average duration for subjects histogram\n",
    "fig, axes = plt.subplots(1, 3)\n",
    "axes[0].hist(fix_duration)\n",
    "axes[0].set_title(\"Fixations\")\n",
    "axes[1].hist(sacc_duration)\n",
    "axes[1].set_title(\"Saccades\")\n",
    "axes[2].hist(smp_duration)\n",
    "axes[2].set_title(\"Smooth Pursuit\")\n",
    "\n",
    "# Set common labels\n",
    "fig.text(0.5, 0.04, 'Duration [s]', ha='center', va='center')\n",
    "fig.text(0.06, 0.5, 'Subject Count', ha='center', va='center', rotation='vertical')\n",
    "\n",
    "plt.savefig(\"average_durations.png\", dpi=1000)\n",
    "plt.show()"
   ],
   "metadata": {
    "pycharm": {
     "metadata": false,
     "name": "#%%\n",
     "is_executing": false
    }
   }
  },
  {
   "cell_type": "markdown",
   "source": [
    "## Calculate Fix-Sacc-SmoothP per Trial\n"
   ],
   "metadata": {
    "collapsed": false,
    "pycharm": {
     "name": "#%% md\n"
    }
   }
  },
  {
   "cell_type": "code",
   "execution_count": 13,
   "outputs": [
    {
     "name": "stderr",
     "text": [
      "/home/harrisonford/PycharmProjects/accelerometer-data/venv/lib/python3.7/site-packages/ipykernel_launcher.py:28: RuntimeWarning: Mean of empty slice\n"
     ],
     "output_type": "stream"
    },
    {
     "data": {
      "text/plain": "<Figure size 432x288 with 1 Axes>",
      "image/png": "[encoded data removed]"
     },
     "metadata": {
      "needs_background": "light"
     },
     "output_type": "display_data"
    },
    {
     "data": {
      "text/plain": "<class 'statsmodels.iolib.summary.Summary'>\n\"\"\"\n                            OLS Regression Results                            \n==============================================================================\nDep. Variable:                  Value   R-squared:                       0.155\nModel:                            OLS   Adj. R-squared:                  0.116\nMethod:                 Least Squares   F-statistic:                     3.971\nDate:                Sun, 18 Aug 2019   Prob (F-statistic):            0.00240\nTime:                        19:44:38   Log-Likelihood:                 96.662\nNo. Observations:                 114   AIC:                            -181.3\nDf Residuals:                     108   BIC:                            -164.9\nDf Model:                           5                                         \nCovariance Type:            nonrobust                                         \n=================================================================================\n                    coef    std err          t      P>|t|      [0.025      0.975]\n---------------------------------------------------------------------------------\nIntercept         0.4347      0.024     17.797      0.000       0.386       0.483\nC(Trial)[T.1]    -0.1304      0.035     -3.775      0.000      -0.199      -0.062\nC(Trial)[T.2]    -0.0659      0.035     -1.909      0.059      -0.134       0.003\nC(Trial)[T.3]    -0.1320      0.035     -3.821      0.000      -0.200      -0.064\nC(Trial)[T.4]    -0.0838      0.035     -2.426      0.017      -0.152      -0.015\nC(Trial)[T.5]    -0.0774      0.035     -2.241      0.027      -0.146      -0.009\n==============================================================================\nOmnibus:                       22.274   Durbin-Watson:                   1.903\nProb(Omnibus):                  0.000   Jarque-Bera (JB):               30.922\nSkew:                           0.982   Prob(JB):                     1.93e-07\nKurtosis:                       4.629   Cond. No.                         6.85\n==============================================================================\n\nWarnings:\n[1] Standard Errors assume that the covariance matrix of the errors is correctly specified.\n\"\"\"",
      "text/html": "<table class=\"simpletable\">\n<caption>OLS Regression Results</caption>\n<tr>\n  <th>Dep. Variable:</th>          <td>Value</td>      <th>  R-squared:         </th> <td>   0.155</td>\n</tr>\n<tr>\n  <th>Model:</th>                   <td>OLS</td>       <th>  Adj. R-squared:    </th> <td>   0.116</td>\n</tr>\n<tr>\n  <th>Method:</th>             <td>Least Squares</td>  <th>  F-statistic:       </th> <td>   3.971</td>\n</tr>\n<tr>\n  <th>Date:</th>             <td>Sun, 18 Aug 2019</td> <th>  Prob (F-statistic):</th>  <td>0.00240</td>\n</tr>\n<tr>\n  <th>Time:</th>                 <td>19:44:38</td>     <th>  Log-Likelihood:    </th> <td>  96.662</td>\n</tr>\n<tr>\n  <th>No. Observations:</th>      <td>   114</td>      <th>  AIC:               </th> <td>  -181.3</td>\n</tr>\n<tr>\n  <th>Df Residuals:</th>          <td>   108</td>      <th>  BIC:               </th> <td>  -164.9</td>\n</tr>\n<tr>\n  <th>Df Model:</th>              <td>     5</td>      <th>                     </th>     <td> </td>   \n</tr>\n<tr>\n  <th>Covariance Type:</th>      <td>nonrobust</td>    <th>                     </th>     <td> </td>   \n</tr>\n</table>\n<table class=\"simpletable\">\n<tr>\n        <td></td>           <th>coef</th>     <th>std err</th>      <th>t</th>      <th>P>|t|</th>  <th>[0.025</th>    <th>0.975]</th>  \n</tr>\n<tr>\n  <th>Intercept</th>     <td>    0.4347</td> <td>    0.024</td> <td>   17.797</td> <td> 0.000</td> <td>    0.386</td> <td>    0.483</td>\n</tr>\n<tr>\n  <th>C(Trial)[T.1]</th> <td>   -0.1304</td> <td>    0.035</td> <td>   -3.775</td> <td> 0.000</td> <td>   -0.199</td> <td>   -0.062</td>\n</tr>\n<tr>\n  <th>C(Trial)[T.2]</th> <td>   -0.0659</td> <td>    0.035</td> <td>   -1.909</td> <td> 0.059</td> <td>   -0.134</td> <td>    0.003</td>\n</tr>\n<tr>\n  <th>C(Trial)[T.3]</th> <td>   -0.1320</td> <td>    0.035</td> <td>   -3.821</td> <td> 0.000</td> <td>   -0.200</td> <td>   -0.064</td>\n</tr>\n<tr>\n  <th>C(Trial)[T.4]</th> <td>   -0.0838</td> <td>    0.035</td> <td>   -2.426</td> <td> 0.017</td> <td>   -0.152</td> <td>   -0.015</td>\n</tr>\n<tr>\n  <th>C(Trial)[T.5]</th> <td>   -0.0774</td> <td>    0.035</td> <td>   -2.241</td> <td> 0.027</td> <td>   -0.146</td> <td>   -0.009</td>\n</tr>\n</table>\n<table class=\"simpletable\">\n<tr>\n  <th>Omnibus:</th>       <td>22.274</td> <th>  Durbin-Watson:     </th> <td>   1.903</td>\n</tr>\n<tr>\n  <th>Prob(Omnibus):</th> <td> 0.000</td> <th>  Jarque-Bera (JB):  </th> <td>  30.922</td>\n</tr>\n<tr>\n  <th>Skew:</th>          <td> 0.982</td> <th>  Prob(JB):          </th> <td>1.93e-07</td>\n</tr>\n<tr>\n  <th>Kurtosis:</th>      <td> 4.629</td> <th>  Cond. No.          </th> <td>    6.85</td>\n</tr>\n</table><br/><br/>Warnings:<br/>[1] Standard Errors assume that the covariance matrix of the errors is correctly specified."
     },
     "metadata": {},
     "output_type": "execute_result",
     "execution_count": 13
    }
   ],
   "source": [
    "import numpy as np\n",
    "import pandas as pd\n",
    "import seaborn as sns\n",
    "# import statsmodels.api as sm\n",
    "from statsmodels.formula.api import ols\n",
    "\n",
    "\n",
    "# change here to chose data to plot\n",
    "type_dict = dict(Saccade=1, Fixation=2, Smooth_Pursuit=3)\n",
    "chosen_type = 'Fixation'\n",
    "data_value = 'Duration'\n",
    "\n",
    "# import data\n",
    "data = pd.read_csv('./source_data/data_modified.csv')\n",
    "data_type = data['type']\n",
    "trial_id = data['trial_id']\n",
    "duration = data['duration']\n",
    "subject_id = data['subject']\n",
    "data_list = []  # save subject, trial, duration or quantity\n",
    "for trial in range(6):\n",
    "    for subject in range(20):\n",
    "        sub_times = [a_time for a_time, sub, tag, t_id in zip(duration, subject_id, data_type, trial_id)\n",
    "                 if sub == subject and tag == type_dict[chosen_type] and t_id == trial]\n",
    "        if data_value == 'Quantity':\n",
    "            data_list.append([subject, trial, len(sub_times)])\n",
    "        else:\n",
    "            data_list.append([subject,trial, np.nanmean(sub_times)])\n",
    "\n",
    "# summarize into a dataframe\n",
    "grand_averages = pd.DataFrame(data_list, columns=[\"Subject\", \"Trial\", \"Value\"])\n",
    "point_plot = sns.pointplot(\n",
    "    x=\"Trial\", y=\"Value\", data = grand_averages).set_title(\"{} {} per trial\".format(chosen_type, data_value))\n",
    "fig = point_plot.get_figure()\n",
    "fig.savefig(\"{}_{}_trials.png\".format(chosen_type, data_value), dpi=1000)\n",
    "plt.show()\n",
    "\n",
    "# apply ANOVA for significance\n",
    "anova = ols('Value ~ C(Trial)', data=grand_averages).fit()\n",
    "anova.summary()\n",
    "# aov_table = sm.stats.anova_lm(anova, typ=2)\n",
    "# aov_table\n"
   ],
   "metadata": {
    "collapsed": false,
    "pycharm": {
     "name": "#%%\n",
     "is_executing": false
    }
   }
  },
  {
   "cell_type": "markdown",
   "source": [
    "## Add Region of Interest (ROI)\n",
    "We add ROI tag in data modified using tracking in source data. First, we add three columns\n",
    "to the file fpr which ROI is moving at any given moment on the screen \n",
    "(screen_ROI_id and x-y values), then, we'll add which ROI the subject is looking into\n",
    "(looked_ROI_id and x-y values)."
   ],
   "metadata": {
    "collapsed": false,
    "pycharm": {
     "name": "#%% md\n"
    }
   }
  },
  {
   "cell_type": "code",
   "execution_count": 4,
   "outputs": [
    {
     "name": "stderr",
     "text": [
      "/home/harrisonford/PycharmProjects/accelerometer-data/venv/lib/python3.7/site-packages/ipykernel_launcher.py:16: FutureWarning: Method .as_matrix will be removed in a future version. Use .values instead.\n  app.launch_new_instance()\n/home/harrisonford/PycharmProjects/accelerometer-data/venv/lib/python3.7/site-packages/ipykernel_launcher.py:36: FutureWarning: Method .as_matrix will be removed in a future version. Use .values instead.\n",
      "/home/harrisonford/PycharmProjects/accelerometer-data/venv/lib/python3.7/site-packages/ipykernel_launcher.py:36: FutureWarning: Method .as_matrix will be removed in a future version. Use .values instead.\n"
     ],
     "output_type": "stream"
    }
   ],
   "source": [
    "import numpy as np\n",
    "import os\n",
    "import pandas as pd\n",
    "\n",
    "\n",
    "# import data and tracking annotations\n",
    "data = pd.read_csv('./source_data/data_modified.csv')\n",
    "tracking_path = './source_data/tracking/'\n",
    "file_list = os.listdir(tracking_path)\n",
    "tracking_container = [pd.read_csv(tracking_path + a_file, delimiter='\\t') for \n",
    "                      a_file in file_list]\n",
    "# for each data x-y point we need TTL + time = real time and check \n",
    "# best distance to a ROI\n",
    "# load TTL data\n",
    "trial_data = pd.read_excel('./source_data/Frames.xlsx')\n",
    "TTL = trial_data['TTL'].as_matrix()\n",
    "valid_ids = trial_data['id']\n",
    "# pick TTL only to those counted as valid subjects (id > 0)\n",
    "TTL = [a_ttl for a_ttl, valid in zip(TTL, valid_ids) if valid > 0]\n",
    "screen_ROI_ids = []\n",
    "looked_ROI_ids = []\n",
    "looked_ROI_distances = []\n",
    "for t, x, y, subject, trial_id in zip(data['time_start'], data['x_start'], data['y_start'], \n",
    "                                   data['subject'], data['trial_id']):\n",
    "    my_TTL = TTL[subject - 1]  # subject starts at 1 but index at 0\n",
    "    # check for this data point the nearest ROI\n",
    "    ROI_id = -1\n",
    "    ROI_distance = -1\n",
    "    if trial_id < 0:  # value not inside trial we just append -1 as it's non-valid\n",
    "        screen_ROI_ids.append(ROI_id)\n",
    "        looked_ROI_ids.append(ROI_id)\n",
    "        looked_ROI_distances.append(ROI_distance)\n",
    "        continue\n",
    "    # for a valid trial we need the starting time to check the relative time to the video\n",
    "    # this gives the correct excel column\n",
    "    frame_vector = trial_data.as_matrix(columns=[trial_data.columns[3 + 2*trial_id]])\n",
    "    frame_vector = [a_frame_value[0] for a_frame_value, valid in zip(frame_vector, valid_ids)\n",
    "                    if valid > 0]  # this takes invalid subjects out\n",
    "    # with starting frame use time instead (video at 30 fps)\n",
    "    video_start_time = frame_vector[subject - 1]/30\n",
    "    current_time = t - video_start_time\n",
    "    \n",
    "    for ROI_index, a_ROI in enumerate(tracking_container):\n",
    "        # check nearest roi and moving roi\n",
    "        roi_times = a_ROI['t']\n",
    "        match_threshold = 0.033  # this time dif means we're on this time\n",
    "        match_index = -1\n",
    "        for an_index, a_time in enumerate(roi_times):\n",
    "            if np.abs(a_time - current_time) < match_threshold:\n",
    "                match_index = an_index\n",
    "                break\n",
    "        # calculate distance to this ROI\n",
    "        if match_index < 0:\n",
    "            continue\n",
    "        my_distance = np.hypot((np.abs(x - a_ROI['pixel_{x}'][match_index])), \n",
    "                      (np.abs(y - a_ROI['pixel_{y}'][match_index])))\n",
    "        if ROI_distance < 0 or my_distance < ROI_distance:\n",
    "            # update values\n",
    "            ROI_distance = my_distance\n",
    "            ROI_id = ROI_index\n",
    "    # save final best roi\n",
    "    screen_ROI_ids.append(ROI_id)\n",
    "    looked_ROI_ids.append(ROI_id)\n",
    "    looked_ROI_distances.append(ROI_distance)\n",
    "\n",
    "# add ROI id and ROI distance to data \n",
    "data['ROI_id'] = looked_ROI_ids\n",
    "data['ROI_distance'] = looked_ROI_distances\n",
    "data.to_csv('./source_data/data_modified.csv')"
   ],
   "metadata": {
    "collapsed": false,
    "pycharm": {
     "name": "#%%\n",
     "is_executing": false
    }
   }
  },
  {
   "cell_type": "markdown",
   "source": [
    "## Check ROI statistics\n",
    "Use the new ROI columns (id and distance) to check subject behaviour"
   ],
   "metadata": {
    "collapsed": false
   }
  },
  {
   "cell_type": "code",
   "execution_count": 13,
   "outputs": [
    {
     "name": "stdout",
     "text": [
      "!\n"
     ],
     "output_type": "stream"
    }
   ],
   "source": [
    "# TODO: Make a function that cuts signal according to frames in trial, remember that acc signal is in time, \n",
    "# we need TTL = when acc was ON in frame\n",
    "print(\"!\")\n"
   ],
   "metadata": {
    "collapsed": false,
    "pycharm": {
     "name": "#%%\n",
     "is_executing": false
    }
   }
  },
  {
   "cell_type": "markdown",
   "source": [
    "## Calculate Performance Using MSE\n",
    "We calculate performance MSE in 4 sensors (per subject, per trial, grand average)\n"
   ],
   "metadata": {
    "pycharm": {
     "metadata": false
    }
   }
  },
  {
   "cell_type": "code",
   "execution_count": 14,
   "outputs": [],
   "source": [
    "# TODO\n"
   ],
   "metadata": {
    "pycharm": {
     "metadata": false,
     "name": "#%%\n",
     "is_executing": false
    }
   }
  },
  {
   "cell_type": "markdown",
   "source": "## Calculate Gaze-time per zone\n",
   "metadata": {
    "pycharm": {
     "metadata": false
    }
   }
  },
  {
   "cell_type": "code",
   "execution_count": 15,
   "outputs": [],
   "source": "# TODO\n\n",
   "metadata": {
    "pycharm": {
     "metadata": false,
     "name": "#%%\n",
     "is_executing": false
    }
   }
  }
 ],
 "metadata": {
  "kernelspec": {
   "name": "python3",
   "language": "python",
   "display_name": "Python 3"
  },
  "language_info": {
   "codemirror_mode": {
    "name": "ipython",
    "version": 2
   },
   "file_extension": ".py",
   "mimetype": "text/x-python",
   "name": "python",
   "nbconvert_exporter": "python",
   "pygments_lexer": "ipython2",
   "version": "2.7.6"
  },
  "pycharm": {
   "stem_cell": {
    "cell_type": "raw",
    "source": [],
    "metadata": {
     "collapsed": false
    }
   }
  }
 },
 "nbformat": 4,
 "nbformat_minor": 0
}